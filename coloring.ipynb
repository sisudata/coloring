{
 "cells": [
  {
   "cell_type": "code",
   "execution_count": 1,
   "metadata": {},
   "outputs": [],
   "source": [
    "# buffer size for coloring algorithm\n",
    "# recommend running this on m5.4xlarge (ubuntu, 60gb, 32 cpus)\n",
    "edgebufsz = 64 * 1024 * 1024\n",
    "nthreads = 32\n",
    "\n",
    "from absl import app, flags\n",
    "import sys, os\n",
    "\n",
    "import numpy as np\n",
    "import pandas as pd\n",
    "import scipy.sparse as sps\n",
    "import warnings\n",
    "import sys\n",
    "import os\n",
    "from functools import partial\n",
    "\n",
    "from tqdm.notebook import tqdm"
   ]
  },
  {
   "cell_type": "code",
   "execution_count": 2,
   "metadata": {},
   "outputs": [],
   "source": [
    "%%bash\n",
    "\n",
    "if ! [ -d url_svmlight ] ; then\n",
    "    wget --quiet \"http://www.sysnet.ucsd.edu/projects/url/url_svmlight.tar.gz\"\n",
    "    tar xzf url_svmlight.tar.gz\n",
    "fi\n",
    "\n",
    "if ! [ -f parallelSort.o ] || ! [ -f u4_sort.so ] || ! [ -f u8_sort.so ]; then\n",
    "    ./build.sh\n",
    "fip = "
   ]
  },
  {
   "cell_type": "code",
   "execution_count": 14,
   "metadata": {},
   "outputs": [
    {
     "name": "stdout",
     "output_type": "stream",
     "text": [
      "extraced feature summary\n",
      "nrows 2396130 ncols 3381409\n",
      "continuous 64 binary 3381345\n",
      "\n",
      "label breakdown\n",
      "0.0    0.669407\n",
      "1.0    0.330593\n",
      "dtype: float64\n",
      "\n",
      "non-null values per column (categorical only)\n",
      "       count       mean          std  min  25%  50%  75%        max\n",
      "0  3381345.0  60.770149  9048.536248  0.0  1.0  2.0  3.0  2396130.0\n",
      "\n",
      "non-null values per row (categorical only)\n",
      "       count       mean        std   min   25%   50%   75%    max\n",
      "0  2396130.0  85.756966  15.102465  14.0  76.0  83.0  94.0  381.0\n",
      "\n",
      "sparsity among categorical 2.54e-05\n"
     ]
    }
   ],
   "source": [
    "from utils_graph_coloring import *\n",
    "\n",
    "import random\n",
    "np.random.seed(1234)\n",
    "random.seed(1234)\n",
    "\n",
    "Xcontinuous, Xcsr, Xcsc, y, nrows, ncols = get_all_data()\n",
    "\n",
    "print('extraced feature summary')\n",
    "print('nrows', nrows, 'ncols', ncols)\n",
    "print('continuous', Xcontinuous.shape[1], 'binary', Xcsc.shape[1])\n",
    "print()\n",
    "print('label breakdown')\n",
    "print(pd.Series(y).value_counts() / nrows)\n",
    "print()\n",
    "print('non-null values per column (categorical only)')\n",
    "nnzc = np.diff(Xcsc.indptr)\n",
    "print(pd.Series(nnzc).describe().to_frame().transpose())\n",
    "print()\n",
    "print('non-null values per row (categorical only)')\n",
    "nnzr = np.diff(Xcsr.indptr)\n",
    "print(pd.Series(nnzr).describe().to_frame().transpose())\n",
    "print()\n",
    "print('sparsity among categorical {:.3g}'.format(Xcsc.getnnz() / np.prod(Xcsc.shape)))"
   ]
  },
  {
   "cell_type": "code",
   "execution_count": 4,
   "metadata": {},
   "outputs": [],
   "source": [
    "### Create the set of co-occurence edges\n",
    "#\n",
    "# pack an edge into a single u64. Everything here and below needs to be re-done\n",
    "# for every training fold, but we do it once on the whole dataset for\n",
    "# debugging / illustrative purposes.\n",
    "#\n",
    "# notably, this is 'static' coloring where you know the vertex count\n",
    "# ahead of time, so this accepts train indices and looks up Xbinary_csr directly.\n",
    "def coloring_prep(train, Xbinary_csr, nthreads, edgebufsz):\n",
    "    with timeit('dropping non-train features'):\n",
    "        csc_train = Xbinary_csr[train].tocsc()\n",
    "        csc_train.eliminate_zeros()\n",
    "        dead_features = np.diff(csc_train.indptr) == 0\n",
    "        num_dead = dead_features.sum()\n",
    "        Xbinary_csr = Xbinary_csr[:, ~dead_features].copy()\n",
    "    print('dropped', num_dead, 'dead features')\n",
    "    Xbinary_csr.eliminate_zeros()\n",
    "    nnzr = np.diff(Xbinary_csr.indptr)\n",
    "    with timeit('creating graph'):\n",
    "        # TODO: could sumbsample here for speed\n",
    "        Xtrain_csr_color = Xbinary_csr[train]\n",
    "        final_edgeset_u64 = create_edgeset_u64(Xtrain_csr_color, edgebufsz, tqdm=tqdm, nthreads=nthreads)\n",
    "    nverts = Xbinary_csr.shape[1] # includes vacuous 0 column\n",
    "    nedges = len(final_edgeset_u64)\n",
    "    print('nverts         {:>15,}'.format(nverts))\n",
    "    print('nedges         {:>15,}'.format(nedges))\n",
    "    print('degree         {:>15.0f}'.format(nedges / nverts))\n",
    "    print('graph sparsity {:>15.3e}'.format(\n",
    "        nedges / (nverts * (nverts - 1) // 2)))\n",
    "\n",
    "    # add an extra slot so that later after cumsum\n",
    "    # degree[-2] to degree[-1] defines the range for\n",
    "    degree = np.zeros(int(nverts + 1), dtype=np.uint32)\n",
    "    bidir_edges = np.zeros(nedges * 2, np.uint32)\n",
    "\n",
    "    with timeit('bidirectional edges'):\n",
    "        count_degree(final_edgeset_u64, degree[1:])\n",
    "        vertex_offsets = np.cumsum(degree, dtype=np.uint64)\n",
    "        fill_edges(final_edgeset_u64, bidir_edges, vertex_offsets.copy(), vertex_offsets)\n",
    "\n",
    "    with timeit('color'):\n",
    "        # will segfault if >2**16 colors\n",
    "        ncolors, color_map = color_graph(degree[1:], bidir_edges, vertex_offsets)\n",
    "    print('colors', ncolors)\n",
    "\n",
    "    with timeit('color remap'):\n",
    "        # if we got a 'color collision', then last write wins\n",
    "        # one of the indices will get saved, the other won't.\n",
    "        Xcategorical_color, color_cards = color_remap(Xbinary_csr, ncolors, color_map, nnzr)\n",
    "\n",
    "    return Xcategorical_color, color_cards"
   ]
  },
  {
   "cell_type": "code",
   "execution_count": 5,
   "metadata": {},
   "outputs": [
    {
     "name": "stdout",
     "output_type": "stream",
     "text": [
      "     dropping non-train features  ...took       4.01 sec \n",
      "dropped 673653 dead features\n",
      "                  creating graph"
     ]
    },
    {
     "data": {
      "application/vnd.jupyter.widget-view+json": {
       "model_id": "9b9aea0dc1394bb898e0b059587f4db1",
       "version_major": 2,
       "version_minor": 0
      },
      "text/plain": [
       "HBox(children=(FloatProgress(value=0.0, max=1677291.0), HTML(value='')))"
      ]
     },
     "metadata": {},
     "output_type": "display_data"
    },
    {
     "name": "stdout",
     "output_type": "stream",
     "text": [
      "\n",
      "  ...took      26.53 sec \n",
      "nverts               2,707,692\n",
      "nedges             259,136,336\n",
      "degree                      96\n",
      "graph sparsity       7.069e-05\n",
      "             bidirectional edges  ...took      13.99 sec \n",
      "                           color  ...took       2.42 sec \n",
      "colors 465\n",
      "                     color remap  ...took      24.59 sec \n",
      "CPU times: user 10min 17s, sys: 3min 4s, total: 13min 21s\n",
      "Wall time: 1min 11s\n"
     ]
    }
   ],
   "source": [
    "%%time\n",
    "ixs = np.arange(nrows, dtype=int)\n",
    "# malicious urls is temporally correlated, only 1 split to make\n",
    "cut = int(.7 * nrows)\n",
    "train_ixs, test_ixs = ixs[:cut], ixs[cut:]\n",
    "\n",
    "set_parallelism(nthreads)\n",
    "Xcolor, cardinalities = coloring_prep(train_ixs, Xcsr, nthreads, edgebufsz)"
   ]
  },
  {
   "cell_type": "code",
   "execution_count": 6,
   "metadata": {},
   "outputs": [
    {
     "data": {
      "image/png": "[encoded data removed]",
      "text/plain": [
       "<Figure size 432x288 with 1 Axes>"
      ]
     },
     "metadata": {
      "needs_background": "light"
     },
     "output_type": "display_data"
    }
   ],
   "source": [
    "from matplotlib import pyplot as plt\n",
    "%matplotlib inline\n",
    "\n",
    "plt.semilogy(list(sorted(cardinalities)))\n",
    "cardinalities\n",
    "plt.xlabel('color rank by popularity')\n",
    "plt.ylabel('frequency of color')\n",
    "plt.title('color frequencies')\n",
    "plt.show()"
   ]
  },
  {
   "cell_type": "code",
   "execution_count": 7,
   "metadata": {},
   "outputs": [],
   "source": [
    "import lightgbm as lgb\n",
    "import warnings\n",
    "\n",
    "def eval_lgbm(X, y):\n",
    "    \n",
    "    with timeit('data prep'):\n",
    "        Xdense, Xmaybe_sparse = X\n",
    "        if sps.issparse(Xmaybe_sparse):\n",
    "            X = sps.hstack(X, 'csr', np.float32)\n",
    "        else:\n",
    "            X = np.asarray(np.hstack(X).astype(np.float32))\n",
    "        cats = [i + Xdense.shape[1] for i in range(Xmaybe_sparse.shape[1])]\n",
    "        dataset = lgb.Dataset(data=X[train_ixs], label=y[train_ixs], params={'verbose': -1})\n",
    "        \n",
    "    with warnings.catch_warnings():\n",
    "        warnings.filterwarnings(\"ignore\", message='Using categorical_feature in Dataset.')\n",
    "        warnings.filterwarnings(\"ignore\", message='.*categorical_feature in Dataset is overridden.*')\n",
    "        with timeit('training'):\n",
    "            gbm = lgb.train(\n",
    "                params = {\n",
    "                    'boosting_type': 'gbdt',\n",
    "                    'objective': 'binary',\n",
    "                    'num_threads': nthreads,\n",
    "                    'verbose': -1,\n",
    "                    'metric': 'binary_logloss'},\n",
    "                train_set=dataset,                \n",
    "                verbose_eval=False,\n",
    "                categorical_feature=cats)\n",
    "        with timeit('prediction'):\n",
    "            out = gbm.predict(X[test_ixs], verbose_eval=False)\n",
    "        print('final acc {:.3%}'.format(((out >= 0.5) == y[test_ixs]).mean()))"
   ]
  },
  {
   "cell_type": "code",
   "execution_count": 8,
   "metadata": {},
   "outputs": [
    {
     "name": "stdout",
     "output_type": "stream",
     "text": [
      "                       data prep  ...took       8.74 sec \n",
      "                        training  ...took      37.16 sec \n",
      "                      prediction  ...took       1.89 sec \n",
      "final acc 98.735%\n"
     ]
    }
   ],
   "source": [
    "# use LGBM online exclusive feature bundling (EFB), which does coloring automatically\n",
    "# for us!\n",
    "eval_lgbm((Xcontinuous, Xcsr), y)"
   ]
  },
  {
   "cell_type": "code",
   "execution_count": 9,
   "metadata": {},
   "outputs": [
    {
     "name": "stdout",
     "output_type": "stream",
     "text": [
      "                       data prep  ...took       6.26 sec \n",
      "                        training  ...took      21.65 sec \n",
      "                      prediction  ...took       0.89 sec \n",
      "final acc 99.018%\n"
     ]
    }
   ],
   "source": [
    "# collapse with graph coloring before training\n",
    "# note coloring probably took 90 seconds altogether\n",
    "# if you used 32 threads\n",
    "eval_lgbm((Xcontinuous, Xcolor), y)"
   ]
  },
  {
   "cell_type": "code",
   "execution_count": 10,
   "metadata": {},
   "outputs": [],
   "source": [
    "import xgboost as xgb\n",
    "def eval_xgb(X, y, nnzc):\n",
    "    # NOTE: target encoding isn't quite as powerful as LGBM's EFB,\n",
    "    # but for non-categorical classifiers it gets the job done!\n",
    "    encoder = TargetEncoder(cards=nnzc, is_sparse=sps.issparse(X[1]), debug=False)\n",
    "    \n",
    "    with timeit('data prep'):\n",
    "        Xtrain = tuple(x[train_ixs] for x in X)\n",
    "        Xtest = tuple(x[test_ixs] for x in X)\n",
    "        \n",
    "        \n",
    "        Xtrain = encoder.fit_transform(Xtrain, y.astype(float))\n",
    "        Xtest = encoder.transform(Xtest)\n",
    "        dtrain = xgb.DMatrix(Xtrain, label=y[train_ixs])\n",
    "        dtest = xgb.DMatrix(Xtest, label=y[test_ixs])\n",
    "\n",
    "    param = {\n",
    "        'objective': 'binary:logistic'}\n",
    "    \n",
    "    num_round = 100\n",
    "    with timeit('train'):\n",
    "        bst = xgb.train(param, dtrain, num_round)\n",
    "    with timeit('prediction'):\n",
    "        preds = bst.predict(dtest, ntree_limit=num_round)\n",
    "        \n",
    "    print('final acc {:.3%}'.format(((preds >= 0.5) == y[test_ixs]).mean()))"
   ]
  },
  {
   "cell_type": "code",
   "execution_count": 11,
   "metadata": {},
   "outputs": [
    {
     "name": "stdout",
     "output_type": "stream",
     "text": [
      "                       data prep  ...took      24.18 sec \n",
      "                           train  ...took     127.86 sec \n",
      "                      prediction  ...took       0.21 sec \n",
      "final acc 98.833%\n"
     ]
    },
    {
     "data": {
      "text/plain": [
       "array([0.9992793 , 0.00164915, 0.9989536 , ..., 0.10557781, 0.00291084,\n",
       "       0.00431713], dtype=float32)"
      ]
     },
     "execution_count": 11,
     "metadata": {},
     "output_type": "execute_result"
    }
   ],
   "source": [
    "# note the ~75 seconds for coloring on train should\n",
    "# count here too\n",
    "eval_xgb((Xcontinuous, Xcolor), y, cardinalities)"
   ]
  },
  {
   "cell_type": "code",
   "execution_count": 16,
   "metadata": {},
   "outputs": [
    {
     "name": "stdout",
     "output_type": "stream",
     "text": [
      "                       data prep  ...took      91.06 sec \n",
      "                           train  ...took     235.72 sec \n",
      "                      prediction  ...took       1.27 sec \n",
      "final acc 98.882%\n"
     ]
    },
    {
     "data": {
      "text/plain": [
       "array([0.99981517, 0.00371897, 0.9997081 , ..., 0.9848166 , 0.00448632,\n",
       "       0.00240642], dtype=float32)"
      ]
     },
     "execution_count": 16,
     "metadata": {},
     "output_type": "execute_result"
    }
   ],
   "source": [
    "eval_xgb((Xcontinuous, Xcsc.astype(np.uint32)), y, nnzc)"
   ]
  },
  {
   "cell_type": "code",
   "execution_count": null,
   "metadata": {},
   "outputs": [],
   "source": []
  }
 ],
 "metadata": {
  "kernelspec": {
   "display_name": "Python 3",
   "language": "python",
   "name": "python3"
  },
  "language_info": {
   "codemirror_mode": {
    "name": "ipython",
    "version": 3
   },
   "file_extension": ".py",
   "mimetype": "text/x-python",
   "name": "python",
   "nbconvert_exporter": "python",
   "pygments_lexer": "ipython3",
   "version": "3.7.6"
  }
 },
 "nbformat": 4,
 "nbformat_minor": 2
}
